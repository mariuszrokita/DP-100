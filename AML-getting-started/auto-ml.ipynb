{
 "cells": [
  {
   "cell_type": "markdown",
   "metadata": {},
   "source": [
    "# AutoML"
   ]
  },
  {
   "cell_type": "markdown",
   "metadata": {},
   "source": [
    "##  Load Azure subscription details"
   ]
  },
  {
   "cell_type": "code",
   "execution_count": null,
   "metadata": {
    "ExecuteTime": {
     "end_time": "2019-12-27T14:53:29.260616Z",
     "start_time": "2019-12-27T14:53:29.255610Z"
    }
   },
   "outputs": [],
   "source": [
    "import configparser\n",
    "\n",
    "config = configparser.ConfigParser()\n",
    "config.read('config.ini')\n",
    "\n",
    "subscription_id = config['AZURE']['SUBSCRIPTION_ID']\n",
    "resource_group = config['AZURE']['RESOURCE_GROUP']\n",
    "region = 'westeurope'"
   ]
  },
  {
   "cell_type": "markdown",
   "metadata": {},
   "source": [
    "## Connect to the workspace"
   ]
  },
  {
   "cell_type": "code",
   "execution_count": null,
   "metadata": {
    "ExecuteTime": {
     "end_time": "2019-12-27T14:53:30.823751Z",
     "start_time": "2019-12-27T14:53:30.820752Z"
    }
   },
   "outputs": [],
   "source": [
    "name = 'AMLSLearnworkspace'"
   ]
  },
  {
   "cell_type": "code",
   "execution_count": null,
   "metadata": {
    "ExecuteTime": {
     "end_time": "2019-12-27T14:53:31.947706Z",
     "start_time": "2019-12-27T14:53:31.589801Z"
    }
   },
   "outputs": [],
   "source": [
    "from azureml.core import Workspace, Experiment, Run\n",
    "\n",
    "ws = Workspace.get(name=name,\n",
    "                   subscription_id=subscription_id,\n",
    "                   resource_group=resource_group)\n",
    "\n",
    "print('Done')"
   ]
  },
  {
   "cell_type": "code",
   "execution_count": null,
   "metadata": {
    "ExecuteTime": {
     "end_time": "2019-12-27T14:53:34.002143Z",
     "start_time": "2019-12-27T14:53:33.358489Z"
    }
   },
   "outputs": [],
   "source": [
    "# Load the diabetes dataset, a well-known built-in small dataset that comes with scikit-learn.\n",
    "from sklearn.datasets import load_diabetes\n",
    "from sklearn.model_selection import train_test_split\n",
    "\n",
    "# More info on the dataset: https://scikit-learn.org/stable/datasets/index.html#diabetes-dataset\n",
    "X, y = load_diabetes(return_X_y = True)\n",
    "\n",
    "X_train, X_test, y_train, y_test = train_test_split(X, y, test_size = 0.2, random_state = 0)\n",
    "\n",
    "print('Done')"
   ]
  },
  {
   "cell_type": "code",
   "execution_count": null,
   "metadata": {
    "ExecuteTime": {
     "end_time": "2019-12-27T14:53:36.781952Z",
     "start_time": "2019-12-27T14:53:36.772985Z"
    }
   },
   "outputs": [],
   "source": [
    "X_train.shape, y_train.shape, X_test.shape, y_test.shape"
   ]
  },
  {
   "cell_type": "markdown",
   "metadata": {},
   "source": [
    "## Create an experiment"
   ]
  },
  {
   "cell_type": "code",
   "execution_count": null,
   "metadata": {
    "ExecuteTime": {
     "end_time": "2019-12-27T14:53:39.726478Z",
     "start_time": "2019-12-27T14:53:39.174678Z"
    }
   },
   "outputs": [],
   "source": [
    "from azureml.core.experiment import Experiment\n",
    "\n",
    "experiment = Experiment(workspace = ws, name = \"automl-experiment\")\n",
    "\n",
    "print('Done')"
   ]
  },
  {
   "cell_type": "markdown",
   "metadata": {},
   "source": [
    "## Define the machine learning objective and constraints "
   ]
  },
  {
   "cell_type": "code",
   "execution_count": null,
   "metadata": {
    "ExecuteTime": {
     "end_time": "2019-12-27T15:24:05.950115Z",
     "start_time": "2019-12-27T15:24:05.761844Z"
    }
   },
   "outputs": [],
   "source": [
    "# from azureml.core.compute import ComputeTarget\n",
    "\n",
    "# compute_target = ComputeTarget.list(ws)[0]\n",
    "# compute_target"
   ]
  },
  {
   "cell_type": "code",
   "execution_count": null,
   "metadata": {
    "ExecuteTime": {
     "end_time": "2019-12-27T15:26:36.745788Z",
     "start_time": "2019-12-27T15:26:36.737788Z"
    }
   },
   "outputs": [],
   "source": [
    "from azureml.core.experiment import Experiment\n",
    "from azureml.core.workspace import Workspace\n",
    "from azureml.train.automl import AutoMLConfig\n",
    "import logging\n",
    "\n",
    "automl_config = AutoMLConfig(task = 'regression',\n",
    "                  iteration_timeout_minutes = 10,\n",
    "                  iterations = 10,\n",
    "                  primary_metric = 'spearman_correlation',\n",
    "                  n_cross_validations = 5,\n",
    "                  debug_log = 'automl.log',\n",
    "                  verbosity = logging.INFO,\n",
    "                  #compute_target = compute_target,\n",
    "                  X = X_train, \n",
    "                  y = y_train)\n",
    "\n",
    "print('Done')"
   ]
  },
  {
   "cell_type": "markdown",
   "metadata": {},
   "source": [
    "## Start the AutoML process"
   ]
  },
  {
   "cell_type": "code",
   "execution_count": null,
   "metadata": {
    "ExecuteTime": {
     "end_time": "2019-12-27T15:29:22.167937Z",
     "start_time": "2019-12-27T15:26:38.969104Z"
    }
   },
   "outputs": [],
   "source": [
    "local_run = experiment.submit(automl_config, show_output = True)"
   ]
  },
  {
   "cell_type": "markdown",
   "metadata": {},
   "source": [
    "## Retrieve the best model"
   ]
  },
  {
   "cell_type": "code",
   "execution_count": null,
   "metadata": {
    "ExecuteTime": {
     "end_time": "2019-12-27T15:29:28.581139Z",
     "start_time": "2019-12-27T15:29:28.536137Z"
    }
   },
   "outputs": [],
   "source": [
    "from azureml.widgets import RunDetails\n",
    "RunDetails(local_run).show()"
   ]
  },
  {
   "cell_type": "code",
   "execution_count": null,
   "metadata": {
    "ExecuteTime": {
     "end_time": "2019-12-27T15:29:52.844915Z",
     "start_time": "2019-12-27T15:29:50.155008Z"
    }
   },
   "outputs": [],
   "source": [
    "best_run, fitted_model = local_run.get_output()"
   ]
  },
  {
   "cell_type": "markdown",
   "metadata": {},
   "source": [
    "## Test the best model"
   ]
  },
  {
   "cell_type": "code",
   "execution_count": null,
   "metadata": {
    "ExecuteTime": {
     "end_time": "2019-12-27T15:30:10.539786Z",
     "start_time": "2019-12-27T15:30:10.516786Z"
    }
   },
   "outputs": [],
   "source": [
    "y_pred_train = fitted_model.predict(X_train)\n",
    "y_residual_train = y_train - y_pred_train\n",
    "y_pred_test = fitted_model.predict(X_test)\n",
    "y_residual_test = y_test - y_pred_test"
   ]
  },
  {
   "cell_type": "code",
   "execution_count": null,
   "metadata": {
    "ExecuteTime": {
     "end_time": "2019-12-27T15:30:22.583495Z",
     "start_time": "2019-12-27T15:30:22.575494Z"
    }
   },
   "outputs": [],
   "source": [
    "y_residual_test"
   ]
  }
 ],
 "metadata": {
  "kernelspec": {
   "display_name": "Python 3",
   "language": "python",
   "name": "python3"
  },
  "language_info": {
   "codemirror_mode": {
    "name": "ipython",
    "version": 3
   },
   "file_extension": ".py",
   "mimetype": "text/x-python",
   "name": "python",
   "nbconvert_exporter": "python",
   "pygments_lexer": "ipython3",
   "version": "3.7.6"
  },
  "toc": {
   "base_numbering": 1,
   "nav_menu": {},
   "number_sections": true,
   "sideBar": true,
   "skip_h1_title": false,
   "title_cell": "Table of Contents",
   "title_sidebar": "Contents",
   "toc_cell": false,
   "toc_position": {},
   "toc_section_display": true,
   "toc_window_display": false
  }
 },
 "nbformat": 4,
 "nbformat_minor": 2
}
