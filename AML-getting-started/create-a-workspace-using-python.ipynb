{
 "cells": [
  {
   "cell_type": "markdown",
   "metadata": {},
   "source": [
    "# Introduction"
   ]
  },
  {
   "cell_type": "markdown",
   "metadata": {},
   "source": [
    "The notebook contains code needed to create a workspace and run basic experiment in it.\n",
    "\n",
    "Reference: \n",
    "* https://docs.microsoft.com/en-us/learn/modules/intro-to-azure-machine-learning-service/6-train-model"
   ]
  },
  {
   "cell_type": "markdown",
   "metadata": {},
   "source": [
    "# Create a workspace"
   ]
  },
  {
   "cell_type": "code",
   "execution_count": null,
   "metadata": {
    "ExecuteTime": {
     "end_time": "2019-12-12T05:39:47.863886Z",
     "start_time": "2019-12-12T05:39:47.860527Z"
    }
   },
   "outputs": [],
   "source": [
    "import azureml.core\n",
    "\n",
    "print(azureml.core.VERSION)"
   ]
  },
  {
   "cell_type": "code",
   "execution_count": null,
   "metadata": {
    "ExecuteTime": {
     "end_time": "2019-12-12T05:39:50.737592Z",
     "start_time": "2019-12-12T05:39:49.211060Z"
    }
   },
   "outputs": [],
   "source": [
    "from azureml.core import Workspace\n",
    "\n",
    "subscription_id = '{azure-subscription-id}'\n",
    "resource_group = '{resource-group-name}'\n",
    "region = 'westeurope'\n",
    "\n",
    "ws = Workspace.create(name='AMLSLearnworkspace',\n",
    "                      subscription_id=subscription_id, \n",
    "                      resource_group=resource_group,\n",
    "                      create_resource_group = True,\n",
    "                      location=region)\n",
    "\n",
    "print('AMLS Workspace created')"
   ]
  },
  {
   "cell_type": "code",
   "execution_count": null,
   "metadata": {
    "ExecuteTime": {
     "end_time": "2019-12-12T05:43:21.712891Z",
     "start_time": "2019-12-12T05:43:21.708430Z"
    }
   },
   "outputs": [],
   "source": [
    "# View workspace details\n",
    "ws.get_details()"
   ]
  },
  {
   "cell_type": "code",
   "execution_count": null,
   "metadata": {
    "ExecuteTime": {
     "end_time": "2019-12-12T05:33:40.988620Z",
     "start_time": "2019-12-12T05:33:40.983867Z"
    }
   },
   "outputs": [],
   "source": [
    "# Create the configuration file.\n",
    "ws.write_config()\n",
    "print('Configuration saved')"
   ]
  },
  {
   "cell_type": "markdown",
   "metadata": {},
   "source": [
    "# Use the workspace"
   ]
  },
  {
   "cell_type": "code",
   "execution_count": null,
   "metadata": {
    "ExecuteTime": {
     "end_time": "2019-12-12T05:43:38.020571Z",
     "start_time": "2019-12-12T05:43:30.876809Z"
    }
   },
   "outputs": [],
   "source": [
    "from azureml.core import Experiment\n",
    "\n",
    "# create an experiment\n",
    "exp = Experiment(workspace=ws, name='trial_exp')\n",
    "\n",
    "# start a run\n",
    "run = exp.start_logging()\n",
    "\n",
    "# log a number\n",
    "run.log('trial', 30)\n",
    "\n",
    "# log a list (Fibonacci numbers)\n",
    "run.log_list('my list', [1, 1, 2, 3, 5, 8, 13, 21, 34, 55]) \n",
    "\n",
    "# finish the run\n",
    "run.complete()\n",
    "\n",
    "print('Finished logging')"
   ]
  },
  {
   "cell_type": "code",
   "execution_count": null,
   "metadata": {
    "ExecuteTime": {
     "end_time": "2019-12-12T05:38:05.824655Z",
     "start_time": "2019-12-12T05:38:05.821611Z"
    }
   },
   "outputs": [],
   "source": [
    "# View the logged results\n",
    "print(run.get_portal_url())"
   ]
  },
  {
   "cell_type": "markdown",
   "metadata": {},
   "source": [
    "# Clean up the resources"
   ]
  },
  {
   "cell_type": "code",
   "execution_count": null,
   "metadata": {
    "ExecuteTime": {
     "end_time": "2019-12-12T05:48:47.075888Z",
     "start_time": "2019-12-12T05:45:53.183553Z"
    }
   },
   "outputs": [],
   "source": [
    "ws.delete(delete_dependent_resources=True)"
   ]
  }
 ],
 "metadata": {
  "kernelspec": {
   "display_name": "Python 3",
   "language": "python",
   "name": "python3"
  },
  "language_info": {
   "codemirror_mode": {
    "name": "ipython",
    "version": 3
   },
   "file_extension": ".py",
   "mimetype": "text/x-python",
   "name": "python",
   "nbconvert_exporter": "python",
   "pygments_lexer": "ipython3",
   "version": "3.7.5"
  },
  "toc": {
   "base_numbering": 1,
   "nav_menu": {},
   "number_sections": true,
   "sideBar": true,
   "skip_h1_title": false,
   "title_cell": "Table of Contents",
   "title_sidebar": "Contents",
   "toc_cell": false,
   "toc_position": {},
   "toc_section_display": true,
   "toc_window_display": false
  }
 },
 "nbformat": 4,
 "nbformat_minor": 2
}
